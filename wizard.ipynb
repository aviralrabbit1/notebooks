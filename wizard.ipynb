{
  "nbformat": 4,
  "nbformat_minor": 0,
  "metadata": {
    "colab": {
      "provenance": []
    },
    "kernelspec": {
      "name": "python3",
      "display_name": "Python 3"
    },
    "language_info": {
      "name": "python"
    }
  },
  "cells": [
    {
      "cell_type": "code",
      "execution_count": 6,
      "metadata": {
        "id": "2x2hjQd-gXW6",
        "colab": {
          "base_uri": "https://localhost:8080/"
        },
        "outputId": "406abf45-59e0-4762-f54d-840ad33c2123"
      },
      "outputs": [
        {
          "output_type": "execute_result",
          "data": {
            "text/plain": [
              "['IMG_20171009_144348.jpg',\n",
              " 'https:  result.hbtu.ac.in hbturesult result ',\n",
              " 'loading.jpg',\n",
              " '2nd year results .pdf',\n",
              " 'result of 3rd year',\n",
              " 'IMG_20190103_130033.jpg',\n",
              " 'IMG_20190717_213219.jpg',\n",
              " 'IMG_20190717_213133.jpg',\n",
              " 'IMG_20190717_212413.jpg',\n",
              " 'IMG_20190717_213539.jpg',\n",
              " '2000.JPG',\n",
              " 'Document Sign_Release_for_TED_World_Theatr.pdf',\n",
              " 'Classroom',\n",
              " 'final year fees.jpg',\n",
              " '1.jpg',\n",
              " 'D251X57AdmitCard.pdf',\n",
              " \"Aman Katara's Feedback form.gform\",\n",
              " 'My love',\n",
              " 'SuAv 🧣🧦.gdoc',\n",
              " 'Copy of Indian Unicorn Startup List cum Tracker.gsheet',\n",
              " 'My resume',\n",
              " \"Aman Katara's Feedback form (Responses).gsheet\",\n",
              " 'Cover Letter.gdoc',\n",
              " 'Untitled document.gdoc',\n",
              " 'Cooling Fans.gsheet',\n",
              " '9-12gk.rtf',\n",
              " 'sudoku.gdoc',\n",
              " 'GK912.gdoc',\n",
              " 'GK58.gdoc',\n",
              " 'Colab Notebooks',\n",
              " '.ipynb_checkpoints',\n",
              " 'wizard_of_oz.txt']"
            ]
          },
          "metadata": {},
          "execution_count": 6
        }
      ],
      "source": [
        "import os\n",
        "os.listdir(\"drive/MyDrive\")"
      ]
    },
    {
      "cell_type": "markdown",
      "source": [
        "Read the sample text file as '**f**', store in variable '**text**'"
      ],
      "metadata": {
        "id": "u-nLMhzOoi5C"
      }
    },
    {
      "cell_type": "code",
      "source": [
        "with open('drive/MyDrive/wizard_of_oz.txt','r' , encoding='utf-8') as f:\n",
        "  text = f.read()\n",
        "chars = sorted(set(text))\n",
        "# print(text[:200])\n",
        "print(chars)\n",
        "print(\"Number of characters in the text are\", len(chars))"
      ],
      "metadata": {
        "colab": {
          "base_uri": "https://localhost:8080/"
        },
        "id": "lcOwA8-ZlwkJ",
        "outputId": "8124afed-6acf-4ec6-e89d-49372e963433"
      },
      "execution_count": 14,
      "outputs": [
        {
          "output_type": "stream",
          "name": "stdout",
          "text": [
            "['\\n', ' ', '!', '\"', '&', \"'\", '(', ')', '*', ',', '-', '.', '0', '1', '2', '3', '4', '5', '6', '7', '8', '9', ':', ';', '?', 'A', 'B', 'C', 'D', 'E', 'F', 'G', 'H', 'I', 'J', 'K', 'L', 'M', 'N', 'O', 'P', 'Q', 'R', 'S', 'T', 'U', 'V', 'W', 'X', 'Y', 'Z', '[', ']', '_', 'a', 'b', 'c', 'd', 'e', 'f', 'g', 'h', 'i', 'j', 'k', 'l', 'm', 'n', 'o', 'p', 'q', 'r', 's', 't', 'u', 'v', 'w', 'x', 'y', 'z', '\\ufeff']\n",
            "Number of characters in the text are 81\n"
          ]
        }
      ]
    },
    {
      "cell_type": "markdown",
      "source": [
        "Make dictionaries **string_to_int** and **int_to_string** to map each character to a unique integer and vice versa."
      ],
      "metadata": {
        "id": "J7IML0RCsgAX"
      }
    },
    {
      "cell_type": "code",
      "source": [
        "string_to_int = {ch:i for i, ch in enumerate(chars)}\n",
        "int_to_string = {i:ch for i, ch in enumerate(chars)}\n",
        "\n",
        "# takes a string as input and converts it into a list of integers using the string_to_int mapping\n",
        "encode = lambda s: [string_to_int[c] for c in s]\n",
        "\n",
        "# takes a list of integers and converts it back to a string using the int_to_string mapping.\n",
        "decode = lambda l: ''.join([int_to_string[i] for i in l])\n",
        "\n",
        "# print(encode('hello'))\n",
        "encoded_hello = encode('hello')\n",
        "print('encoded_hello is ', encoded_hello)\n",
        "\n",
        "decoded_hello = decode(encoded_hello)\n",
        "print('decoded_hello is ',decoded_hello)"
      ],
      "metadata": {
        "colab": {
          "base_uri": "https://localhost:8080/"
        },
        "id": "YKNnNGkineaj",
        "outputId": "9d879287-ee7b-4da0-8030-9737cd94f175"
      },
      "execution_count": 18,
      "outputs": [
        {
          "output_type": "stream",
          "name": "stdout",
          "text": [
            "encoded_hello is  [61, 58, 65, 65, 68]\n",
            "decoded_hello is  hello\n"
          ]
        }
      ]
    },
    {
      "cell_type": "markdown",
      "source": [
        "Use PyTorch to convert the encoded text data into a tensor."
      ],
      "metadata": {
        "id": "5az0wVdPwOHa"
      }
    },
    {
      "cell_type": "code",
      "source": [
        "import torch\n",
        "\n",
        "# create a PyTorch tensor from the list of integers obtained from the encoding.\n",
        "data = torch.tensor(encode(text), dtype = torch.long)\n",
        "# The dtype=torch.long specifies that the tensor should have integer data type.\n",
        "\n",
        "print(data[:100])"
      ],
      "metadata": {
        "colab": {
          "base_uri": "https://localhost:8080/"
        },
        "id": "1056H-wdr5V3",
        "outputId": "0701930f-76c6-42ba-fc79-d08074709934"
      },
      "execution_count": 19,
      "outputs": [
        {
          "output_type": "stream",
          "name": "stdout",
          "text": [
            "tensor([80, 28, 39, 42, 39, 44, 32, 49,  1, 25, 38, 28,  1, 44, 32, 29,  1, 47,\n",
            "        33, 50, 25, 42, 28,  1, 33, 38,  1, 39, 50,  0,  0,  1,  1, 26, 49,  0,\n",
            "         0,  1,  1, 36, 11,  1, 30, 42, 25, 38, 35,  1, 26, 25, 45, 37,  0,  0,\n",
            "         1,  1, 25, 45, 44, 32, 39, 42,  1, 39, 30,  1, 44, 32, 29,  1, 47, 33,\n",
            "        50, 25, 42, 28,  1, 39, 30,  1, 39, 50,  9,  1, 44, 32, 29,  1, 36, 25,\n",
            "        38, 28,  1, 39, 30,  1, 39, 50,  9,  1])\n"
          ]
        }
      ]
    },
    {
      "cell_type": "code",
      "source": [],
      "metadata": {
        "id": "Tm0O5Hn2wC-v"
      },
      "execution_count": null,
      "outputs": []
    }
  ]
}