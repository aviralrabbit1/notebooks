{
  "nbformat": 4,
  "nbformat_minor": 0,
  "metadata": {
    "colab": {
      "provenance": [],
      "authorship_tag": "ABX9TyMeS/HMARnLx9GZAKjBGB1g",
      "include_colab_link": true
    },
    "kernelspec": {
      "name": "python3",
      "display_name": "Python 3"
    },
    "language_info": {
      "name": "python"
    }
  },
  "cells": [
    {
      "cell_type": "markdown",
      "metadata": {
        "id": "view-in-github",
        "colab_type": "text"
      },
      "source": [
        "<a href=\"https://colab.research.google.com/github/aviralrabbit1/notebooks/blob/wizard/wizard.ipynb\" target=\"_parent\"><img src=\"https://colab.research.google.com/assets/colab-badge.svg\" alt=\"Open In Colab\"/></a>"
      ]
    },
    {
      "cell_type": "code",
      "execution_count": 6,
      "metadata": {
        "id": "2x2hjQd-gXW6",
        "colab": {
          "base_uri": "https://localhost:8080/"
        },
        "outputId": "406abf45-59e0-4762-f54d-840ad33c2123"
      },
      "outputs": [
        {
          "output_type": "execute_result",
          "data": {
            "text/plain": [
              "['IMG_20171009_144348.jpg',\n",
              " 'https:  result.hbtu.ac.in hbturesult result ',\n",
              " 'loading.jpg',\n",
              " '2nd year results .pdf',\n",
              " 'result of 3rd year',\n",
              " 'IMG_20190103_130033.jpg',\n",
              " 'IMG_20190717_213219.jpg',\n",
              " 'IMG_20190717_213133.jpg',\n",
              " 'IMG_20190717_212413.jpg',\n",
              " 'IMG_20190717_213539.jpg',\n",
              " '2000.JPG',\n",
              " 'Document Sign_Release_for_TED_World_Theatr.pdf',\n",
              " 'Classroom',\n",
              " 'final year fees.jpg',\n",
              " '1.jpg',\n",
              " 'D251X57AdmitCard.pdf',\n",
              " \"Aman Katara's Feedback form.gform\",\n",
              " 'My love',\n",
              " 'SuAv 🧣🧦.gdoc',\n",
              " 'Copy of Indian Unicorn Startup List cum Tracker.gsheet',\n",
              " 'My resume',\n",
              " \"Aman Katara's Feedback form (Responses).gsheet\",\n",
              " 'Cover Letter.gdoc',\n",
              " 'Untitled document.gdoc',\n",
              " 'Cooling Fans.gsheet',\n",
              " '9-12gk.rtf',\n",
              " 'sudoku.gdoc',\n",
              " 'GK912.gdoc',\n",
              " 'GK58.gdoc',\n",
              " 'Colab Notebooks',\n",
              " '.ipynb_checkpoints',\n",
              " 'wizard_of_oz.txt']"
            ]
          },
          "metadata": {},
          "execution_count": 6
        }
      ],
      "source": [
        "import os\n",
        "os.listdir(\"drive/MyDrive\")"
      ]
    },
    {
      "cell_type": "code",
      "source": [
        "with open('drive/MyDrive/wizard_of_oz.txt','r' , encoding='utf-8') as f:\n",
        "  text = f.read()\n",
        "chars = sorted(set(text))\n",
        "print(chars)"
      ],
      "metadata": {
        "colab": {
          "base_uri": "https://localhost:8080/"
        },
        "id": "lcOwA8-ZlwkJ",
        "outputId": "3c0fa104-2a7d-420f-bd0d-2c3a7823a56b"
      },
      "execution_count": 8,
      "outputs": [
        {
          "output_type": "stream",
          "name": "stdout",
          "text": [
            "['\\n', ' ', '!', '\"', '&', \"'\", '(', ')', '*', ',', '-', '.', '0', '1', '2', '3', '4', '5', '6', '7', '8', '9', ':', ';', '?', 'A', 'B', 'C', 'D', 'E', 'F', 'G', 'H', 'I', 'J', 'K', 'L', 'M', 'N', 'O', 'P', 'Q', 'R', 'S', 'T', 'U', 'V', 'W', 'X', 'Y', 'Z', '[', ']', '_', 'a', 'b', 'c', 'd', 'e', 'f', 'g', 'h', 'i', 'j', 'k', 'l', 'm', 'n', 'o', 'p', 'q', 'r', 's', 't', 'u', 'v', 'w', 'x', 'y', 'z', '\\ufeff']\n"
          ]
        }
      ]
    },
    {
      "cell_type": "code",
      "source": [],
      "metadata": {
        "id": "YKNnNGkineaj"
      },
      "execution_count": null,
      "outputs": []
    }
  ]
}